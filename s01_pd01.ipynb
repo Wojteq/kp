{
 "cells": [
  {
   "cell_type": "code",
   "execution_count": 3,
   "metadata": {},
   "outputs": [
    {
     "name": "stdout",
     "output_type": "stream",
     "text": [
      "Jak się nawywasz?: Szatan\n",
      "Ile masz lat?: 666\n",
      "Nazywasz się: Szatan i masz: 666 lat\n"
     ]
    }
   ],
   "source": [
    "imie = input('Jak się nawywasz?: ')\n",
    "wiek = input('Ile masz lat?: ')\n",
    "print('Nazywasz się: ', imie, ' i masz: ', wiek, ' lat', sep='')"
   ]
  }
 ],
 "metadata": {
  "kernelspec": {
   "display_name": "Python 3",
   "language": "python",
   "name": "python3"
  },
  "language_info": {
   "codemirror_mode": {
    "name": "ipython",
    "version": 3
   },
   "file_extension": ".py",
   "mimetype": "text/x-python",
   "name": "python",
   "nbconvert_exporter": "python",
   "pygments_lexer": "ipython3",
   "version": "3.6.3"
  }
 },
 "nbformat": 4,
 "nbformat_minor": 2
}
