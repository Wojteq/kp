{
 "cells": [
  {
   "cell_type": "code",
   "execution_count": 1,
   "metadata": {
    "collapsed": true
   },
   "outputs": [],
   "source": [
    "#pracujemy na tej liście\n",
    "l = [1,[2,[3,4],5],6,7,[8],9,10,[11,12,[13,14],15],16,[17,18,[[19,20,21,22,23],24],[25,26],27],28]"
   ]
  },
  {
   "cell_type": "code",
   "execution_count": 3,
   "metadata": {},
   "outputs": [
    {
     "data": {
      "text/plain": [
       "[1,\n",
       " [2, [3, 4], 5],\n",
       " 6,\n",
       " 7,\n",
       " [8],\n",
       " 9,\n",
       " 10,\n",
       " [11, 12, [13, 14], 15],\n",
       " 16,\n",
       " [17, 18, [[19, 20, 21, 22, 23], 24], [25, 26], 27],\n",
       " 28]"
      ]
     },
     "execution_count": 3,
     "metadata": {},
     "output_type": "execute_result"
    }
   ],
   "source": [
    "# poniżej, ponieważ mam się dostać do wartości, a trudno jest wyszukiwać po nawiasach, \n",
    "#po prostu kazałem mu wymienić elementy listy od 0 do size\n",
    "size = len(l)\n",
    "l[0:size]"
   ]
  },
  {
   "cell_type": "code",
   "execution_count": 47,
   "metadata": {},
   "outputs": [
    {
     "data": {
      "text/plain": [
       "5"
      ]
     },
     "execution_count": 47,
     "metadata": {},
     "output_type": "execute_result"
    }
   ],
   "source": [
    "#Dostań się do podanej lub podanych wartości przez indeksowanie\n",
    "# 5\n",
    "l[1][2]"
   ]
  },
  {
   "cell_type": "code",
   "execution_count": 6,
   "metadata": {},
   "outputs": [
    {
     "data": {
      "text/plain": [
       "4"
      ]
     },
     "execution_count": 6,
     "metadata": {},
     "output_type": "execute_result"
    }
   ],
   "source": [
    "# 4\n",
    "l[1][1][1]"
   ]
  },
  {
   "cell_type": "code",
   "execution_count": 49,
   "metadata": {},
   "outputs": [
    {
     "data": {
      "text/plain": [
       "10"
      ]
     },
     "execution_count": 49,
     "metadata": {},
     "output_type": "execute_result"
    }
   ],
   "source": [
    "# 10 \n",
    "#a tutaj inaczej, ponieważ nie chciało mi się liczyć, który to :). \n",
    "#Ale mam problem następujący - przeszukiwanie List pierwszego poziomu w liście potrafię zrobić, \n",
    "#ale drugi mi nie wychodzi jakoś...\n",
    "findPos10=l.index(10import numpy as np)\n",
    "l[findPos10]"
   ]
  },
  {
   "cell_type": "code",
   "execution_count": 10,
   "metadata": {},
   "outputs": [
    {
     "data": {
      "text/plain": [
       "[[2, [3, 4], 5], 6, 7, [8]]"
      ]
     },
     "execution_count": 10,
     "metadata": {},
     "output_type": "execute_result"
    }
   ],
   "source": [
    "# [[2, [3, 4], 5], 6, 7, [8]]\n",
    "l[1:5]"
   ]
  },
  {
   "cell_type": "code",
   "execution_count": 14,
   "metadata": {},
   "outputs": [
    {
     "data": {
      "text/plain": [
       "(11, [13, 14])"
      ]
     },
     "execution_count": 14,
     "metadata": {},
     "output_type": "execute_result"
    }
   ],
   "source": [
    "# [11, [13, 14]]\n",
    "l[-4][0],l[-4][2]"
   ]
  },
  {
   "cell_type": "code",
   "execution_count": 19,
   "metadata": {},
   "outputs": [
    {
     "data": {
      "text/plain": [
       "24"
      ]
     },
     "execution_count": 19,
     "metadata": {},
     "output_type": "execute_result"
    }
   ],
   "source": [
    "# 24\n",
    "l[-2][2][-1]"
   ]
  },
  {
   "cell_type": "code",
   "execution_count": 26,
   "metadata": {},
   "outputs": [
    {
     "data": {
      "text/plain": [
       "[8]"
      ]
     },
     "execution_count": 26,
     "metadata": {},
     "output_type": "execute_result"
    }
   ],
   "source": [
    "# 8\n",
    "l[4]"
   ]
  },
  {
   "cell_type": "code",
   "execution_count": 38,
   "metadata": {},
   "outputs": [
    {
     "data": {
      "text/plain": [
       "(23, 22, 21, 20, 19)"
      ]
     },
     "execution_count": 38,
     "metadata": {},
     "output_type": "execute_result"
    }
   ],
   "source": [
    "# [23, 22, 21, 20, 19]\n",
    "#tutaj niestety nie wiem jak podać te wartości razem i odwrotnie. Coś w stylu l[-2][-3][-2][-1:-5] nie działa.\n",
    "l[-2][-3][-2][-1], l[-2][-3][-2][-2], l[-2][-3][-2][-3], l[-2][-3][-2][-4], l[-2][-3][-2][-5]"
   ]
  },
  {
   "cell_type": "code",
   "execution_count": 41,
   "metadata": {},
   "outputs": [
    {
     "name": "stdout",
     "output_type": "stream",
     "text": [
      "N:\\python_anaconda\\PD2\\Tygrysek_Kazimierz\n"
     ]
    }
   ],
   "source": [
    "#znajdź funkcję, która służy do łączenia ścieżek;\n",
    "#połącz folder, w którym obecnie pracujesz (wykorzystaj do tego odpowiednią funkcję)\n",
    "#z folderem o nazwie 'Tygrysek_Kazimierz'. Wynik tego zapisz w zmiennej kazio. Wydrukuj zmienną kazio.\n",
    "import os\n",
    "myDir = os.getcwd()\n",
    "type(myDir)\n",
    "os.path.join(myDir, 'Tygrysek_Kazimierz')\n",
    "kazio = os.path.join(myDir, 'Tygrysek_Kazimierz')\n",
    "print(kazio)\n",
    "os.makedirs(kazio)"
   ]
  },
  {
   "cell_type": "code",
   "execution_count": 45,
   "metadata": {},
   "outputs": [
    {
     "data": {
      "text/plain": [
       "'python_anaconda'"
      ]
     },
     "execution_count": 45,
     "metadata": {},
     "output_type": "execute_result"
    }
   ],
   "source": [
    "#korzystając z pewnej nieodgadnionej funkcji,\n",
    "#podziel zmienną kazio tak, aby każdy kolejny folder był oddzielnym elementem na liście. Zapisz to jako kazio2.\n",
    "#wybierz z tak stworzonej listy nazwę użytkownika.\n",
    "path = os.path.normpath(kazio)\n",
    "kazio1 = path.split(os.sep)\n",
    "#nie mam nazwy użytkownika w folderze, więc niech będzie nia \"python anaconda\"\n",
    "kazio1[1]\n"
   ]
  },
  {
   "cell_type": "code",
   "execution_count": 2,
   "metadata": {},
   "outputs": [
    {
     "data": {
      "text/plain": [
       "array([  1,   2,  -3,   6,   7, -10,  88,  43, -98,  17,  39,  45,   4,\n",
       "         5,   9,  10,  23, -14,  55,  13])"
      ]
     },
     "execution_count": 2,
     "metadata": {},
     "output_type": "execute_result"
    }
   ],
   "source": [
    "import numpy as np\n",
    "#wektor ar\n",
    "ar = np.array([1,2,-3,6,7,-10,88,43,-98,17,39,45])\n",
    "#doklej do wektora ar wartości [4,5,9,10,23,-14,55,13]\n",
    "ar1= np.array([4,5,9,10,23,-14,55,13])\n",
    "ar2= np.append(ar,ar1)\n",
    "ar2"
   ]
  },
  {
   "cell_type": "code",
   "execution_count": 3,
   "metadata": {},
   "outputs": [
    {
     "name": "stdout",
     "output_type": "stream",
     "text": [
      "(array([2], dtype=int64),)\n"
     ]
    }
   ],
   "source": [
    "#znajdz index dla wartości 9 - użyj odpowiedniej funkcji\n",
    "#tego nie wiem, tzn zrobiłem, ale nie wiem jak wykorzystać tę informację (array([2], dtype=int64),)\n",
    "itemindex = np.where(ar2==-3)\n",
    "print(itemindex)"
   ]
  },
  {
   "cell_type": "code",
   "execution_count": 4,
   "metadata": {},
   "outputs": [
    {
     "name": "stdout",
     "output_type": "stream",
     "text": [
      "(array([ 2,  5,  8, 17], dtype=int64),)\n"
     ]
    }
   ],
   "source": [
    "#znajdź indeksy dla wartości mniejszych od zera - użyj odpowiedniej funkcji\n",
    "itemindex = np.where(ar2<0)\n",
    "print(itemindex)"
   ]
  },
  {
   "cell_type": "code",
   "execution_count": 5,
   "metadata": {},
   "outputs": [
    {
     "data": {
      "text/plain": [
       "array([ -3, -10, -98, -14])"
      ]
     },
     "execution_count": 5,
     "metadata": {},
     "output_type": "execute_result"
    }
   ],
   "source": [
    "#wyświetl wartości mniejsze od zera\n",
    "ar2[ar2<0]"
   ]
  },
  {
   "cell_type": "code",
   "execution_count": 6,
   "metadata": {},
   "outputs": [
    {
     "data": {
      "text/plain": [
       "11.4"
      ]
     },
     "execution_count": 6,
     "metadata": {},
     "output_type": "execute_result"
    }
   ],
   "source": [
    "#policz średnią, zaokrąglij do jednego miejsca po przecinku\n",
    "np.round(np.mean(ar),1)"
   ]
  },
  {
   "cell_type": "code",
   "execution_count": 10,
   "metadata": {},
   "outputs": [
    {
     "data": {
      "text/plain": [
       "[1.0,\n",
       " 2.0,\n",
       " 3.0,\n",
       " 6.0,\n",
       " 7.0,\n",
       " 10.0,\n",
       " 88.0,\n",
       " 43.0,\n",
       " 98.0,\n",
       " 17.0,\n",
       " 39.0,\n",
       " 45.0,\n",
       " 4.0,\n",
       " 5.0,\n",
       " 9.0,\n",
       " 10.0,\n",
       " 23.0,\n",
       " 14.0,\n",
       " 55.0,\n",
       " 13.0]"
      ]
     },
     "execution_count": 10,
     "metadata": {},
     "output_type": "execute_result"
    }
   ],
   "source": [
    "#stwórz zmienną ar_abs, wektor wartości bezwględnych z wektora ar\n",
    "ar_abs_0 = [x*x for x in ar2]\n",
    "ar_abs = [x**(0.5) for x in ar_abs_0]\n",
    "ar_abs"
   ]
  },
  {
   "cell_type": "code",
   "execution_count": 11,
   "metadata": {},
   "outputs": [
    {
     "name": "stdout",
     "output_type": "stream",
     "text": [
      "[1.0, 1.2599210498948732, 1.4422495703074083, 1.8171205928321397, 1.9129311827723889, 2.1544346900318838, 4.4479601811386305, 3.5033980603867239, 4.6104362920584459, 2.5712815906582351, 3.3912114430141664, 3.5568933044900626, 1.5874010519681994, 1.7099759466766968, 2.0800838230519041, 2.1544346900318838, 2.8438669798515654, 2.4101422641752297, 3.8029524607613912, 2.3513346877207573]\n"
     ]
    }
   ],
   "source": [
    "#stwórz zmienną ar_p, wektor pierwiastków trzeciego stopnia z wektora ar\n",
    "#mam jednak problem z pierwiastkiem 3-go stopnia z liczb ujemnych :). Dlatego - sorry, je pomijam :)\n",
    "#było tak ar_abs = [x**(1/3) for x in ar2 if x>0]\n",
    "ar_p = [x**(1/3) for x in ar_abs]\n",
    "print(ar_p)"
   ]
  },
  {
   "cell_type": "code",
   "execution_count": 12,
   "metadata": {},
   "outputs": [
    {
     "data": {
      "text/plain": [
       "array([ 1.  ,  1.26,  1.44,  1.82,  1.91,  2.15,  4.45,  3.5 ,  4.61,\n",
       "        2.57,  3.39,  3.56,  1.59,  1.71,  2.08,  2.15,  2.84,  2.41,\n",
       "        3.8 ,  2.35])"
      ]
     },
     "execution_count": 12,
     "metadata": {},
     "output_type": "execute_result"
    }
   ],
   "source": [
    "#zaokrąglij wektor ar_p do dwóch miejsc po przecinku\n",
    "np.round(ar_p,2)"
   ]
  },
  {
   "cell_type": "code",
   "execution_count": 16,
   "metadata": {},
   "outputs": [
    {
     "name": "stdout",
     "output_type": "stream",
     "text": [
      "2561.1726865\n"
     ]
    },
    {
     "data": {
      "text/plain": [
       "int"
      ]
     },
     "execution_count": 16,
     "metadata": {},
     "output_type": "execute_result"
    }
   ],
   "source": [
    "#zsumuj zaokrąglony wektor ar_p i podnieś go do kwadratu, \n",
    "#zmienną nazwij ar_sq, zmień typ tej zmiennej na liczbę całkowitą\n",
    "np.sum(ar_p)\n",
    "ar_są=np.sum(ar_p)\n",
    "ar_są=ar_są*ar_są\n",
    "print(ar_są)\n",
    "ar_są=int(ar_są)\n",
    "type(ar_są)"
   ]
  },
  {
   "cell_type": "code",
   "execution_count": 14,
   "metadata": {},
   "outputs": [
    {
     "name": "stdout",
     "output_type": "stream",
     "text": [
      "[1, 4, 9, 36, 49, 100, 7744, 1849, 9604, 289, 1521, 2025, 16, 25, 81, 100, 529, 196, 3025, 169]\n"
     ]
    }
   ],
   "source": [
    "#moje_notatki\n",
    "sqrt = [x*x for x in ar2]\n",
    "print(sqrt)"
   ]
  },
  {
   "cell_type": "code",
   "execution_count": 15,
   "metadata": {},
   "outputs": [
    {
     "data": {
      "text/plain": [
       "-1.4422495703074083"
      ]
     },
     "execution_count": 15,
     "metadata": {},
     "output_type": "execute_result"
    }
   ],
   "source": [
    "#moje notatki\n",
    "import math\n",
    "-math.pow(3, float(1)/3)"
   ]
  },
  {
   "cell_type": "code",
   "execution_count": null,
   "metadata": {
    "collapsed": true
   },
   "outputs": [],
   "source": []
  }
 ],
 "metadata": {
  "kernelspec": {
   "display_name": "Python 3",
   "language": "python",
   "name": "python3"
  },
  "language_info": {
   "codemirror_mode": {
    "name": "ipython",
    "version": 3
   },
   "file_extension": ".py",
   "mimetype": "text/x-python",
   "name": "python",
   "nbconvert_exporter": "python",
   "pygments_lexer": "ipython3",
   "version": "3.6.3"
  }
 },
 "nbformat": 4,
 "nbformat_minor": 2
}
