{
 "cells": [
  {
   "cell_type": "code",
   "execution_count": 34,
   "metadata": {},
   "outputs": [
    {
     "name": "stdout",
     "output_type": "stream",
     "text": [
      "5 z 50: 38 37 21 35 48\n",
      "2 z 10: 5 1\n"
     ]
    }
   ],
   "source": [
    "#wiem, wiem, że to nie funkcja łada i składna, ale ... działa.\n",
    "def Eurolotek():\n",
    "    import random\n",
    "    ar  = random.sample (range (0, 50), 5)\n",
    "    ar1 = random.sample  (range (0, 10), 2)\n",
    "    x=print(\"5 z 50:\", *ar)\n",
    "    y=print(\"2 z 10:\", *ar1)\n",
    "Eurolotek()"
   ]
  },
  {
   "cell_type": "code",
   "execution_count": null,
   "metadata": {
    "collapsed": true
   },
   "outputs": [],
   "source": []
  }
 ],
 "metadata": {
  "kernelspec": {
   "display_name": "Python 3",
   "language": "python",
   "name": "python3"
  },
  "language_info": {
   "codemirror_mode": {
    "name": "ipython",
    "version": 3
   },
   "file_extension": ".py",
   "mimetype": "text/x-python",
   "name": "python",
   "nbconvert_exporter": "python",
   "pygments_lexer": "ipython3",
   "version": "3.6.3"
  }
 },
 "nbformat": 4,
 "nbformat_minor": 2
}
