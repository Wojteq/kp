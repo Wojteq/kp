{
 "cells": [
  {
   "cell_type": "markdown",
   "metadata": {},
   "source": [
    "#### Wykonaną pracę domową wrzucamy na swojego GitHuba, repo: kp, nazwa pliku s01_pd03.ipynb. Obrazek, nazwa pliku: s01_pd03.png.\n",
    "\n",
    "##### Deadline: 2.12.2017\n",
    "\n",
    "##### Inne ważne rzeczy do ogarnięcia:\n",
    "\n",
    "1. Konto na Githubie - czekam na informację z loginem do 28.11;\n",
    "2. Wyzwanie grupowe - deadline to niedziela, 3.12. Na spotkaniu analizujemy najlepsze funkcje eurolotek() i idziemy dalej z materiałem."
   ]
  },
  {
   "cell_type": "markdown",
   "metadata": {},
   "source": [
    "##### Numpy"
   ]
  },
  {
   "cell_type": "code",
   "execution_count": 183,
   "metadata": {
    "collapsed": true
   },
   "outputs": [],
   "source": [
    "#zaimportuj odpowiedni pakiet do pracy z wektorami i macierzami\n",
    "import numpy as np"
   ]
  },
  {
   "cell_type": "code",
   "execution_count": 184,
   "metadata": {},
   "outputs": [
    {
     "data": {
      "text/plain": [
       "array([  1,   2,  -3,   6,   7, -10,  88,  43, -98,  17,  39,  45])"
      ]
     },
     "execution_count": 184,
     "metadata": {},
     "output_type": "execute_result"
    }
   ],
   "source": [
    "#wektor ar\n",
    "ar = np.array([1,2,-3,6,7,-10,88,43,-98,17,39,45])\n",
    "ar"
   ]
  },
  {
   "cell_type": "code",
   "execution_count": 185,
   "metadata": {},
   "outputs": [],
   "source": [
    "#doklej do wektora ar wartości [4,5,9,10,23,-14,55,13]\n",
    "ar1= np.array([4,5,9,10,23,-14,55,13])\n",
    "ar= np.append(ar,ar1)"
   ]
  },
  {
   "cell_type": "code",
   "execution_count": 186,
   "metadata": {},
   "outputs": [
    {
     "data": {
      "text/plain": [
       "(array([14], dtype=int64),)"
      ]
     },
     "execution_count": 186,
     "metadata": {},
     "output_type": "execute_result"
    }
   ],
   "source": [
    "#znajdz index dla wartości 9 - użyj odpowiedniej funkcji\n",
    "np.where(ar==9)\n",
    "#można stworzyć zmienną x= np.where... i wykorzystać pozycję."
   ]
  },
  {
   "cell_type": "code",
   "execution_count": 187,
   "metadata": {},
   "outputs": [
    {
     "data": {
      "text/plain": [
       "(array([ 2,  5,  8, 17], dtype=int64),)"
      ]
     },
     "execution_count": 187,
     "metadata": {},
     "output_type": "execute_result"
    }
   ],
   "source": [
    "#znajdź indeksy dla wartości mniejszych od zera - użyj odpowiedniej funkcji\n",
    "np.where(ar<0)"
   ]
  },
  {
   "cell_type": "code",
   "execution_count": 188,
   "metadata": {},
   "outputs": [
    {
     "data": {
      "text/plain": [
       "array([ -3, -10, -98, -14])"
      ]
     },
     "execution_count": 188,
     "metadata": {},
     "output_type": "execute_result"
    }
   ],
   "source": [
    "#wyświetl wartości mniejsze od zera\n",
    "ar[ar<0]"
   ]
  },
  {
   "cell_type": "code",
   "execution_count": 189,
   "metadata": {},
   "outputs": [
    {
     "data": {
      "text/plain": [
       "12.1"
      ]
     },
     "execution_count": 189,
     "metadata": {},
     "output_type": "execute_result"
    }
   ],
   "source": [
    "#policz średnią, zaokrąglij do jednego miejsca po przecinku\n",
    "np.round(np.mean(ar),1)"
   ]
  },
  {
   "cell_type": "code",
   "execution_count": 190,
   "metadata": {},
   "outputs": [],
   "source": [
    "#stwórz zmienną ar_abs, wektor wartości bezwględnych z wektora ar\n",
    "ar_abs=np.absolute(ar)"
   ]
  },
  {
   "cell_type": "code",
   "execution_count": 191,
   "metadata": {},
   "outputs": [],
   "source": [
    "#stwórz zmienną ar_p, wektor pierwiastków trzeciego stopnia z wektora ar_abs\n",
    "ar_p = np.cbrt(ar_abs)"
   ]
  },
  {
   "cell_type": "code",
   "execution_count": 192,
   "metadata": {},
   "outputs": [],
   "source": [
    "#zaokrąglij wektor ar_p do dwóch miejsc po przecinku\n",
    "ar_p=np.round(ar_p,2)"
   ]
  },
  {
   "cell_type": "code",
   "execution_count": 193,
   "metadata": {},
   "outputs": [
    {
     "data": {
      "text/plain": [
       "int"
      ]
     },
     "execution_count": 193,
     "metadata": {},
     "output_type": "execute_result"
    }
   ],
   "source": [
    "#zsumuj zaokrąglony wektor ar_p i podnieś go do kwadratu, \n",
    "ar_są=np.sqrt(np.sum(ar_p))\n",
    "#zmienną nazwij ar_sq, zmień typ tej zmiennej na liczbę całkowitą\n",
    "ar_są=int(ar_są)\n",
    "type(ar_są)"
   ]
  },
  {
   "cell_type": "markdown",
   "metadata": {},
   "source": [
    "##### Mini wyzwanie - praca indywidualna!"
   ]
  },
  {
   "cell_type": "code",
   "execution_count": 194,
   "metadata": {
    "collapsed": true
   },
   "outputs": [],
   "source": [
    "import pandas as pd\n",
    "import numpy as np\n",
    "import matplotlib.pyplot as plt\n",
    "import os"
   ]
  },
  {
   "cell_type": "code",
   "execution_count": 195,
   "metadata": {},
   "outputs": [
    {
     "name": "stdout",
     "output_type": "stream",
     "text": [
      "N:\\python_anaconda\\pd3\\s01_pd03.csv\n"
     ]
    }
   ],
   "source": [
    "#znajduję plik i ścieżkę do niego\n",
    "#notatka - listF = os.listdir()\n",
    "myFile = os.path.join(os.getcwd(), 's01_pd03.csv')\n",
    "print(myFile)"
   ]
  },
  {
   "cell_type": "code",
   "execution_count": 196,
   "metadata": {
    "collapsed": true
   },
   "outputs": [],
   "source": [
    "#importuję ceesvałkę\n",
    "df = pd.read_csv(myFile, delimiter=';')\n",
    "#można to zrobić ręcznie tzn\n",
    "                #salary = df['salary'].values\n",
    "                #hapy = df['happiness'].values\n",
    "#lub z automatu:\n",
    "#daje nam array nagłówków\n",
    "headers = df.columns.values\n",
    "salary = df[headers[0]].values\n",
    "happy = df[headers[1]].values\n"
   ]
  },
  {
   "cell_type": "code",
   "execution_count": 197,
   "metadata": {},
   "outputs": [
    {
     "data": {
      "image/png": "[encoded data removed]",
      "text/plain": [
       "<matplotlib.figure.Figure at 0xdd57cc0>"
      ]
     },
     "metadata": {},
     "output_type": "display_data"
    }
   ],
   "source": [
    "#możemy zacząć tworzyć wykres\n",
    "import matplotlib.pyplot as plt\n",
    "%matplotlib inline\n",
    "plt.xlabel('Zarobki w złotych')\n",
    "plt.ylabel('Szczęście mierzone kwestionariuszem') \n",
    "plt.title('Szczęście a zarobki w złotych')\n",
    "plt.gca().set_xlim(0,14000)\n",
    "plt.gca().set_ylim(0,105)\n",
    "plt.plot(salary[happy>80],happy[happy>80], '.', color='red', label='Bardzo szczęśliwi')\n",
    "plt.plot(salary[(happy<80) & (happy>60)],happy[(happy<80) & (happy>60)], 'p', color='blue', label='Raczej szczęśliwi')\n",
    "plt.plot(salary[(happy<60) & (happy>40)],happy[(happy<60) & (happy>40)], 'd', color='orange', label='Raczej nieszczęśliwi')\n",
    "plt.plot(salary[happy<40],happy[happy<40], '<', color='green', label='Bardzo nieszczęśliwi')\n",
    "plt.legend() \n",
    "plt.savefig('s01_pd03.png', format='png', dpi=600, bbox_inches='tight')"
   ]
  }
 ],
 "metadata": {
  "kernelspec": {
   "display_name": "Python 3",
   "language": "python",
   "name": "python3"
  },
  "language_info": {
   "codemirror_mode": {
    "name": "ipython",
    "version": 3
   },
   "file_extension": ".py",
   "mimetype": "text/x-python",
   "name": "python",
   "nbconvert_exporter": "python",
   "pygments_lexer": "ipython3",
   "version": "3.6.3"
  }
 },
 "nbformat": 4,
 "nbformat_minor": 2
}
