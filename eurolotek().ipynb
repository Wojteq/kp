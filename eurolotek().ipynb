{
 "cells": [
  {
   "cell_type": "code",
   "execution_count": 4,
   "metadata": {},
   "outputs": [
    {
     "name": "stdout",
     "output_type": "stream",
     "text": [
      "5 z 50: 33, 16, 46, 30, 36\n",
      "2 z 10: 4, 9\n"
     ]
    }
   ],
   "source": [
    "#tak - Patryk pomógł z .strip i range,max+1... :)\n",
    "def Eurolotek():\n",
    "    import random\n",
    "    ar  = random.sample(range (1, 51), 5)\n",
    "    ar1 = random.sample(range (1, 11), 2)\n",
    "    print(\"5 z 50:\", str(ar).strip('[]'))\n",
    "    print(\"2 z 10:\", str(ar1).strip('[]'))\n",
    "Eurolotek()"
   ]
  },
  {
   "cell_type": "code",
   "execution_count": null,
   "metadata": {
    "collapsed": true
   },
   "outputs": [],
   "source": []
  }
 ],
 "metadata": {
  "kernelspec": {
   "display_name": "Python 3",
   "language": "python",
   "name": "python3"
  }
 },
 "nbformat": 4,
 "nbformat_minor": 2
}
